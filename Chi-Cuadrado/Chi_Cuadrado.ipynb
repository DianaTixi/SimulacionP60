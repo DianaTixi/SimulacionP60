{
  "nbformat": 4,
  "nbformat_minor": 0,
  "metadata": {
    "colab": {
      "name": "Chi_Cuadrado.ipynb",
      "provenance": [],
      "collapsed_sections": []
    },
    "kernelspec": {
      "name": "python3",
      "display_name": "Python 3"
    },
    "language_info": {
      "name": "python"
    }
  },
  "cells": [
    {
      "cell_type": "markdown",
      "source": [
        "# Practica 5 \n",
        "\n",
        "##### Nombre: Diana Fernanda Tixi Uyaguari\n",
        "\n",
        "##### Fecha: 31/05/2022"
      ],
      "metadata": {
        "id": "GhxJvOaF-aMO"
      }
    },
    {
      "cell_type": "code",
      "execution_count": 2,
      "metadata": {
        "id": "grOO9L4c-VAy"
      },
      "outputs": [],
      "source": [
        "#librerias\n",
        "import pandas as pd\n",
        "import matplotlib.pyplot as plt\n",
        "import numpy as np\n",
        "import pandas as pd\n",
        "import random\n",
        "import matplotlib.pyplot as plt\n",
        "import math"
      ]
    },
    {
      "cell_type": "markdown",
      "source": [
        "1. Realice un programa que permita calcular el valor de\n",
        "Chi-Cuadrada y genere la gráfica de distribución de los\n",
        "100 primeros números pseudo-aleatorios generados por\n",
        "los métodos de cuadrados medios y productos medios.\n"
      ],
      "metadata": {
        "id": "nKnGv8kTALoN"
      }
    },
    {
      "cell_type": "code",
      "source": [
        "#CHI-CUADRADO\n",
        "#Funcion para contar los numeros de cada iteracion\n",
        "def chi_cuadrado(numeros):\n",
        "    tablas = {}\n",
        "    #separamos en intervalos de 0.1\n",
        "    for i in np.arange(0.1, 1.1, 0.1): \n",
        "        for j in numeros:\n",
        "          # Verificamos si el valor esta en el intervalo\n",
        "            if j > i-0.1 and j <= i: \n",
        "                tablas[round(i-0.1,1)] = tablas[round(i-0.1,1)]+1 if round(i-0.1,1) in tablas else 1\n",
        "    return tablas\n",
        " \n",
        "#Funcion para aplicar la formula y calcular la desviacion estandar de cada intervalo \n",
        "def sumatoria_chi_cuadrado(tabla, E):\n",
        "    return sum([(valor-E)**2/E for valor in tabla.values()])"
      ],
      "metadata": {
        "id": "BD_0nDX7wsRT"
      },
      "execution_count": 1,
      "outputs": []
    },
    {
      "cell_type": "markdown",
      "source": [
        "Emplee el siguiente nivel de significancia α=0.05. Las semillas para generar los números son las siguientes:\n",
        "* Cuadrados medios: Xo=74731897457, D=7\n",
        "* Congruencia lineal: a=74731897457, b=37747318974, Xo=7, M=19\n",
        "* La gráfica deberá analizar las distribuciones generadas\n",
        "por ambos métodos y compararlas con la ideal."
      ],
      "metadata": {
        "id": "7DYTGpyUDnYN"
      }
    },
    {
      "cell_type": "code",
      "source": [
        "# Cuadrados medios: Xo=74731897457, D=7\n",
        "def cuadrados_medios():\n",
        "  xo = 74731897457\n",
        "  digitos = 7\n",
        "  iteraciones = 100\n",
        "  xn = xo\n",
        "  lista1=[]\n",
        "  #print(\"It. \\t Xn \\t Ui \\t Rn\")\n",
        "  for i in range(iteraciones):\n",
        "    xnn = xn**2\n",
        "    txnn = str(xnn).zfill(8)\n",
        "    tam = len(txnn)\n",
        "    ui = int(txnn[int(tam/2-digitos/2):int(tam/2+digitos/2)])\n",
        "    rn = ui / (int('9'*digitos)+1)\n",
        "    lista1.append(rn)\n",
        "    xn = ui\n",
        "  return lista1\n",
        "\n"
      ],
      "metadata": {
        "id": "DJENA2HCAVn0"
      },
      "execution_count": 3,
      "outputs": []
    },
    {
      "cell_type": "code",
      "source": [
        "#Cuadrados Medios\n",
        "cm= cuadrados_medios()\n",
        "t1= chi_cuadrado(cm)\n",
        "sumatoria1= sumatoria_chi_cuadrado(t1,10)\n",
        "print(\"---Cuadrados Medios---\")\n",
        "print(\"Tabla de conteo\")\n",
        "print(t1)\n",
        "print(\"Valor del Chi-cuadrado\")\n",
        "print(sumatoria1)"
      ],
      "metadata": {
        "colab": {
          "base_uri": "https://localhost:8080/"
        },
        "id": "22mIKZq9zgLp",
        "outputId": "83251122-92ed-40f4-eae4-6d81f7cde8f7"
      },
      "execution_count": 4,
      "outputs": [
        {
          "output_type": "stream",
          "name": "stdout",
          "text": [
            "---Cuadrados Medios---\n",
            "Tabla de conteo\n",
            "{0.0: 6, 0.1: 9, 0.2: 10, 0.3: 10, 0.4: 6, 0.5: 12, 0.6: 13, 0.7: 11, 0.8: 7, 0.9: 16}\n",
            "Valor del Chi-cuadrado\n",
            "9.200000000000001\n"
          ]
        }
      ]
    },
    {
      "cell_type": "code",
      "source": [
        "fig = plt.figure(figsize=(6,6))\n",
        "axes = fig.add_subplot(1, 1, 1)\n",
        "axes.bar(range(len(t1)), list(t1.values()), \n",
        "          tick_label=list(t1.keys()), \n",
        "          edgecolor='black')\n",
        "axes.set_title('Chi-Cuadrado - Cuadrados Medios')\n",
        "axes.set_xlabel('Cantidad de valoes')\n",
        "axes.set_ylabel('Intervalos')\n",
        "\n",
        "fig.tight_layout()\n",
        "plt.show()"
      ],
      "metadata": {
        "colab": {
          "base_uri": "https://localhost:8080/",
          "height": 441
        },
        "id": "SfLTlSNx1c9x",
        "outputId": "35301b96-634a-4e00-86da-bfb4e0fb7762"
      },
      "execution_count": 8,
      "outputs": [
        {
          "output_type": "display_data",
          "data": {
            "text/plain": [
              "<Figure size 432x432 with 1 Axes>"
            ],
            "image/png": "[encoded data removed]"
          },
          "metadata": {
            "needs_background": "light"
          }
        }
      ]
    },
    {
      "cell_type": "code",
      "source": [
        "#CONGRUENCIA LINEAL\n",
        "# Congruencia lineal: a=74731897457, b=37747318974, Xo=7, M=19\n",
        "def congruencia_lineal():\n",
        "  xo = 7\n",
        "  a = 74731897457\n",
        "  b = 37747318974\n",
        "  m = 19\n",
        "  iteraciones =100\n",
        "  xn = xo\n",
        "  lista2=[]\n",
        "  #print(\"It. \\t Xn \\t Ui\")\n",
        "  for i in range(iteraciones):\n",
        "    xnn = (a*xn+b) % m\n",
        "    ui = xnn/m\n",
        "    lista2.append(ui)\n",
        "    xn = xnn\n",
        "  return lista2"
      ],
      "metadata": {
        "id": "p8Lk8NFuEIWz"
      },
      "execution_count": 5,
      "outputs": []
    },
    {
      "cell_type": "code",
      "source": [
        "#Congruencia Lineal\n",
        "cl= congruencia_lineal()\n",
        "t2= chi_cuadrado(cl)\n",
        "sumatoria2= sumatoria_chi_cuadrado(t2,10)\n",
        "print(\"---Congruencia Lineal---\")\n",
        "print(\"Tabla de conteo\")\n",
        "print(t2)\n",
        "print(\"Valor del Chi-cuadrado\")\n",
        "print(sumatoria2)"
      ],
      "metadata": {
        "colab": {
          "base_uri": "https://localhost:8080/"
        },
        "id": "Xl9epVAF0_Te",
        "outputId": "15b09eca-ee25-4cab-b206-52af0b4242c1"
      },
      "execution_count": 6,
      "outputs": [
        {
          "output_type": "stream",
          "name": "stdout",
          "text": [
            "---Congruencia Lineal---\n",
            "Tabla de conteo\n",
            "{0.1: 11, 0.3: 22, 0.6: 11, 0.7: 11, 0.8: 23, 0.9: 11}\n",
            "Valor del Chi-cuadrado\n",
            "31.7\n"
          ]
        }
      ]
    },
    {
      "cell_type": "code",
      "source": [
        "fig = plt.figure(figsize=(6,6))\n",
        "axes = fig.add_subplot(1, 1, 1)\n",
        "axes.bar(range(len(t2)), list(t2.values()), \n",
        "          tick_label=list(t2.keys()), \n",
        "          edgecolor='black')\n",
        "axes.set_title('Chi-Cuadrado - Congruencia Lineal')\n",
        "axes.set_xlabel('Cantidad de valoes')\n",
        "axes.set_ylabel('Intervalos')\n",
        "\n",
        "fig.tight_layout()\n",
        "plt.show()"
      ],
      "metadata": {
        "colab": {
          "base_uri": "https://localhost:8080/",
          "height": 441
        },
        "id": "BqMzbw8J31Xf",
        "outputId": "9d98083c-5de8-4f2c-a3a2-2ddfc1b656a2"
      },
      "execution_count": 9,
      "outputs": [
        {
          "output_type": "display_data",
          "data": {
            "text/plain": [
              "<Figure size 432x432 with 1 Axes>"
            ],
            "image/png": "[encoded data removed]"
          },
          "metadata": {
            "needs_background": "light"
          }
        }
      ]
    }
  ]
}