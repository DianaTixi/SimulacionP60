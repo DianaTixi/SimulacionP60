{
 "cells": [
  {
   "cell_type": "markdown",
   "metadata": {},
   "source": [
    "### Practica Generador Tausworthe \n",
    "\n",
    "##### Nombre: Diana Tixi \n",
    "##### Materia: Simulacion"
   ]
  },
  {
   "cell_type": "code",
   "execution_count": 2,
   "metadata": {},
   "outputs": [],
   "source": [
    "#Liberias\n",
    "import numpy as np"
   ]
  },
  {
   "cell_type": "code",
   "execution_count": 5,
   "metadata": {},
   "outputs": [
    {
     "name": "stdout",
     "output_type": "stream",
     "text": [
      "[1.0, 0.121, 0.951, 0.976, 0.513, 0.279, 0.153, 0.305, 0.29, 0.68, 0.303, 0.731, 0.983, 0.54, 0.965, 0.921, 0.908, 0.325, 0.053, 0.795, 0.571, 0.547, 0.227, 0.242, 0.516, 0.805, 0.095, 0.007, 0.092, 0.154, 0.883, 0.224, 0.505, 0.052, 0.627, 0.006, 0.301, 0.985, 0.578, 0.934, 0.018, 0.687, 0.754, 0.76, 0.812, 0.633, 0.805, 0.032, 0.775, 0.477]\n"
     ]
    }
   ],
   "source": [
    "class TG(object):\n",
    "    #Parametros: Longitud de la matriz\n",
    "    def __init__(self, length: int = 1, debug: bool = False) -> None:\n",
    "        self.r = self.q = self.chunk_len = 0\n",
    "        self.debug = debug\n",
    "        if length <= 0:\n",
    "            raise ValueError(\"El tamaño de ser un entero positivo\")\n",
    "        self.length = length\n",
    "\n",
    "    #Obtenemos los bits \n",
    "    def get_bits(self) -> np.ndarray:\n",
    "        return self.B\n",
    "\n",
    "    def seed(self, r: int = 3, q: int = 5, chunk_len: int = 4):\n",
    "        self.r = r\n",
    "        self.q = q\n",
    "        self.chunk_len = chunk_len\n",
    "\n",
    "    #Convertimos los bits en decimales \n",
    "    def convert(self, bits: np.ndarray) -> np.ndarray:\n",
    "        res = 0\n",
    "        for index, bit in enumerate(bits):\n",
    "            res += bit * np.power(2, (len(bits) - index - 1))\n",
    "        return res\n",
    "\n",
    "    #Generamos los números aleatorios usando el método de Tauworthe\n",
    "    def random(self, n_decimal: int = 3) -> np.ndarray:\n",
    "\n",
    "        # Verificacion de la semilla\n",
    "        if self.r == 0 or self.q == 0 or self.chunk_len == 0:\n",
    "            self.seed()\n",
    "\n",
    "        # Numero de bits necesarios - Longitud\n",
    "        self.length_bit = self.length * self.chunk_len\n",
    "        self.verbose(f\"self.length_bit = {self.length_bit}\")\n",
    "\n",
    "        # Inicializamos el matriz B\n",
    "        self.B = np.ones(self.length_bit)\n",
    "\n",
    "        # Ampliamos la matriz B\n",
    "        for i in range(self.q, self.length_bit):\n",
    "            new_bit = 1 if self.B[i - self.r] != self.B[i - self.q] else 0\n",
    "            self.B[i] = new_bit\n",
    "\n",
    "        self.verbose(f\"Before splitting, self.B is {self.B}\")\n",
    "\n",
    "        self.B = np.array_split(self.B, self.length)\n",
    "\n",
    "        self.verbose(f\"After splitting, self.B is {self.B}\")\n",
    "\n",
    "        self.decimal = np.array(\n",
    "            [\n",
    "                round(self.convert(seg) / np.power(2, self.chunk_len), n_decimal)\n",
    "                for seg in self.B\n",
    "            ]\n",
    "        )\n",
    "\n",
    "        if 0 in self.decimal:\n",
    "            print(f\"Warning: zero found in index {np.where(self.decimal == 0.0)}\")\n",
    "            print(f\"r = {self.r}; q = {self.q}; l = {self.chunk_len}\")\n",
    "\n",
    "        return self.decimal\n",
    "\n",
    "    def get_cycle(self) -> int:\n",
    "        #Calculamos el tiempo de un ciclo de las matrices TG \n",
    "        try:\n",
    "            idx = np.where(self.decimal == self.decimal[0])[1]\n",
    "            return idx\n",
    "        except IndexError:\n",
    "            print(f\"Cycle larger than {len(self.decimal)}.\")\n",
    "            return 0\n",
    "\n",
    "    def verbose(self, *args, **kwargs) -> None:\n",
    "        #Funcion de impresion para depurar \n",
    "        if self.debug:\n",
    "            print(*args, **kwargs)\n",
    "\n",
    "\n",
    "def main() -> None:\n",
    "    tg = TG(length=50)\n",
    "    tg.seed(r=5, q=17, chunk_len=19)\n",
    "    res = tg.random()\n",
    "    print(res.tolist())\n",
    "\n",
    "\n",
    "if __name__ == \"__main__\":\n",
    "    main()"
   ]
  }
 ],
 "metadata": {
  "interpreter": {
   "hash": "8344beb2e3695cc865366b87c9e795fe295d5e1a75013da0c7029a373688a8d6"
  },
  "kernelspec": {
   "display_name": "Python 3.9.13 64-bit (windows store)",
   "language": "python",
   "name": "python3"
  },
  "language_info": {
   "codemirror_mode": {
    "name": "ipython",
    "version": 3
   },
   "file_extension": ".py",
   "mimetype": "text/x-python",
   "name": "python",
   "nbconvert_exporter": "python",
   "pygments_lexer": "ipython3",
   "version": "3.9.13"
  },
  "orig_nbformat": 4
 },
 "nbformat": 4,
 "nbformat_minor": 2
}
