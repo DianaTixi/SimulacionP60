{
  "nbformat": 4,
  "nbformat_minor": 0,
  "metadata": {
    "colab": {
      "name": "Prueba2-TixiDiana.ipynb",
      "provenance": [],
      "collapsed_sections": [],
      "authorship_tag": "ABX9TyMQYzeKeWxgutXqyFj05bIU",
      "include_colab_link": true
    },
    "kernelspec": {
      "name": "python3",
      "display_name": "Python 3"
    },
    "language_info": {
      "name": "python"
    }
  },
  "cells": [
    {
      "cell_type": "markdown",
      "metadata": {
        "id": "view-in-github",
        "colab_type": "text"
      },
      "source": [
        "<a href=\"https://colab.research.google.com/github/DianaTixi/SimulacionP60/blob/main/Prueba2_TixiDiana.ipynb\" target=\"_parent\"><img src=\"https://colab.research.google.com/assets/colab-badge.svg\" alt=\"Open In Colab\"/></a>"
      ]
    },
    {
      "cell_type": "markdown",
      "source": [
        "### Prueba 2 -- Simulacion\n",
        "###### Nombre: Diana Tixi\n",
        "###### Fecha: 25/05/2022"
      ],
      "metadata": {
        "id": "0pi8mMdVudJU"
      }
    },
    {
      "cell_type": "markdown",
      "source": [
        "Realice un programa que permita validara la independencia de datos y generar una grafica de pie\n",
        "que represente el total de 0 y 1 generados, además del numero de corridas generados por los métodos de cuadrados medios, productos medios y random para validar la Hipótesis.\n",
        "\n",
        "Emplee el siguiente nivel de significancia α=0.05\n",
        "100 numeros generados\n",
        "Las semillas para generar los números son las siguientes:\n",
        "  * Cuadrados medios: Xo=74731897457, D=7\n",
        "  * Congruencia lineal: a=74731897457, b=37747318974, Xo=7, M=19\n",
        "  * Random de Python semilla (01032022)\n",
        "  * Tauswoth q=15, r=7, l=7"
      ],
      "metadata": {
        "id": "xpa39ljEu2GK"
      }
    },
    {
      "cell_type": "code",
      "source": [
        "#Librerias \n",
        "import time\n",
        "import pandas as pd\n",
        "import random\n",
        "import matplotlib.pyplot as plt\n",
        "import numpy as np\n"
      ],
      "metadata": {
        "id": "stnWbVCCwTqL"
      },
      "execution_count": 29,
      "outputs": []
    },
    {
      "cell_type": "code",
      "source": [
        "# Cuadrados Medios \n",
        "# Cuadrados medios: Xo=74731897457, D=7\n",
        "xo = int(input(\"Ingrese la semilla: \"))\n",
        "digitos = int(input(\"Ingrese el numero de digitos: \"))\n",
        "iteraciones = int(input(\"Ingrese el numero de iteraciones: \"))\n",
        "xn = xo\n",
        "lista1=[]\n",
        "#print(\"It. \\t Xn \\t Ui \\t Rn\")\n",
        "for i in range(iteraciones):\n",
        "  xnn = xn**2\n",
        "  txnn = str(xnn).zfill(8)\n",
        "  tam = len(txnn)\n",
        "  ui = int(txnn[int(tam/2-digitos/2):int(tam/2+digitos/2)])\n",
        "  rn = ui / (int('9'*digitos)+1)\n",
        "  lista1.append(rn)\n",
        "  xn = ui\n",
        "  "
      ],
      "metadata": {
        "colab": {
          "base_uri": "https://localhost:8080/"
        },
        "id": "iOl-o4wOu1kq",
        "outputId": "60b74a2c-3da3-469e-83f6-8039ab67c1e2"
      },
      "execution_count": 65,
      "outputs": [
        {
          "name": "stdout",
          "output_type": "stream",
          "text": [
            "Ingrese la semilla: 74731897457\n",
            "Ingrese el numero de digitos: 7\n",
            "Ingrese el numero de iteraciones: 100\n"
          ]
        }
      ]
    },
    {
      "cell_type": "code",
      "source": [
        "x = lista1\n",
        "enteros = []\n",
        "for i in x:\n",
        "  if i >= 0.5:\n",
        "    enteros.append(1)\n",
        "  elif i < 0.5:\n",
        "    enteros.append(0)\n",
        "print(\"Tabla: \" , enteros)\n",
        "print(len(enteros))\n",
        "\n",
        "aux = []\n",
        "co = 0\n",
        "contador = 0\n",
        "iteracion = 0\n",
        "\n",
        "for j in enteros:\n",
        "  if aux != j:\n",
        "    co += 1\n",
        "    aux=j\n",
        "  \n",
        "print(\"co : \" , co)\n",
        "\n",
        "n0 = 0\n",
        "for j in enteros:\n",
        "  if j == 0:\n",
        "    n0 = n0+1\n",
        "print(\"no : \" , n0)\n",
        "\n",
        "n1 = 0\n",
        "for j in enteros:\n",
        "  if j == 1:\n",
        "    n1 = n1+1\n",
        "\n",
        "print(\"n1 : \" , n1)\n",
        "\n",
        "n = n0 + n1\n",
        "print(\"n : \" , n)"
      ],
      "metadata": {
        "colab": {
          "base_uri": "https://localhost:8080/"
        },
        "id": "cyMjTIsaAT_L",
        "outputId": "ba590221-cb59-4e79-feb5-82d6a0af9c01"
      },
      "execution_count": 66,
      "outputs": [
        {
          "output_type": "stream",
          "name": "stdout",
          "text": [
            "Tabla:  [0, 1, 1, 0, 0, 0, 1, 0, 1, 0, 0, 0, 0, 1, 1, 1, 1, 1, 0, 1, 1, 0, 1, 1, 1, 1, 0, 1, 1, 1, 0, 1, 1, 1, 0, 1, 0, 0, 0, 1, 1, 1, 0, 1, 1, 0, 1, 0, 1, 0, 1, 1, 0, 1, 1, 0, 0, 1, 1, 1, 1, 0, 0, 0, 0, 0, 1, 1, 0, 1, 1, 0, 1, 0, 0, 1, 1, 0, 1, 1, 1, 0, 1, 1, 1, 0, 1, 0, 0, 1, 1, 1, 1, 1, 1, 1, 1, 0, 0, 0]\n",
            "100\n",
            "co :  49\n",
            "no :  41\n",
            "n1 :  59\n",
            "n :  100\n"
          ]
        }
      ]
    },
    {
      "cell_type": "code",
      "source": [
        ""
      ],
      "metadata": {
        "id": "0lTB-fER2zsX"
      },
      "execution_count": null,
      "outputs": []
    },
    {
      "cell_type": "code",
      "source": [
        "#CONGRUENCIA LINEAL\n",
        "# Congruencia lineal: a=74731897457, b=37747318974, Xo=7, M=19\n",
        "xo = int(input(\"Ingrese la semilla: \"))\n",
        "a = int(input(\"Ingrese el valor a: \"))\n",
        "b = int(input(\"Ingrese el valor b: \"))\n",
        "m = int(input(\"Ingrese el valor m: \"))\n",
        "iteraciones = int(input(\"Ingrese el numero de iteraciones: \"))\n",
        "xn = xo\n",
        "lista2=[]\n",
        "#print(\"It. \\t Xn \\t Ui\")\n",
        "for i in range(iteraciones):\n",
        "  xnn = (a*xn+b) % m\n",
        "  ui = xnn/m\n",
        "  #print(str(i) + \"\\t\"+ str(xnn)+\"\\t\"+str(ui))\n",
        "  lista2.append(ui)\n",
        "  xn = xnn\n",
        "  \n"
      ],
      "metadata": {
        "colab": {
          "base_uri": "https://localhost:8080/"
        },
        "id": "fQ8DuUJ-yJCR",
        "outputId": "99e8662a-d7a5-4929-f517-70000214ad2f"
      },
      "execution_count": 67,
      "outputs": [
        {
          "name": "stdout",
          "output_type": "stream",
          "text": [
            "Ingrese la semilla: 7\n",
            "Ingrese el valor a: 74731897457\n",
            "Ingrese el valor b: 37747318974\n",
            "Ingrese el valor m: 19\n",
            "Ingrese el numero de iteraciones: 100\n"
          ]
        }
      ]
    },
    {
      "cell_type": "code",
      "source": [
        "x = lista2\n",
        "enteros = []\n",
        "for i in x:\n",
        "  if i >= 0.5:\n",
        "    enteros.append(1)\n",
        "  elif i < 0.5:\n",
        "    enteros.append(0)\n",
        "print(\"Tabla: \" , enteros)\n",
        "print(len(enteros))\n",
        "\n",
        "aux = []\n",
        "co = 0\n",
        "contador = 0\n",
        "iteracion = 0\n",
        "\n",
        "for j in enteros:\n",
        "  if aux != j:\n",
        "    co += 1\n",
        "    aux=j\n",
        "  \n",
        "print(\"co : \" , co)\n",
        "\n",
        "n0 = 0\n",
        "for j in enteros:\n",
        "  if j == 0:\n",
        "    n0 = n0+1\n",
        "print(\"no : \" , n0)\n",
        "\n",
        "n1 = 0\n",
        "for j in enteros:\n",
        "  if j == 1:\n",
        "    n1 = n1+1\n",
        "\n",
        "print(\"n1 : \" , n1)\n",
        "\n",
        "n = n0 + n1\n",
        "print(\"n : \" , n)"
      ],
      "metadata": {
        "colab": {
          "base_uri": "https://localhost:8080/"
        },
        "id": "yJ3x0k2eBk_c",
        "outputId": "9bdd6a10-e377-4e49-8c35-38c7cbee6085"
      },
      "execution_count": 68,
      "outputs": [
        {
          "output_type": "stream",
          "name": "stdout",
          "text": [
            "Tabla:  [1, 1, 1, 1, 0, 0, 0, 1, 0, 1, 1, 1, 1, 0, 0, 0, 1, 0, 1, 1, 1, 1, 0, 0, 0, 1, 0, 1, 1, 1, 1, 0, 0, 0, 1, 0, 1, 1, 1, 1, 0, 0, 0, 1, 0, 1, 1, 1, 1, 0, 0, 0, 1, 0, 1, 1, 1, 1, 0, 0, 0, 1, 0, 1, 1, 1, 1, 0, 0, 0, 1, 0, 1, 1, 1, 1, 0, 0, 0, 1, 0, 1, 1, 1, 1, 0, 0, 0, 1, 0, 1, 1, 1, 1, 0, 0, 0, 1, 0, 1]\n",
            "100\n",
            "co :  45\n",
            "no :  44\n",
            "n1 :  56\n",
            "n :  100\n"
          ]
        }
      ]
    },
    {
      "cell_type": "code",
      "source": [
        "#Random de Python semilla (01032022)\n",
        "#Defino una funcion para generar los 100 numeros pseudoaletaroios, \n",
        "#en este caso estoy utilizando la libreria de Python random\n",
        "def random_python(N=100):\n",
        "  numeros = []\n",
        "  random.seed(1032022)\n",
        "  [numeros.append(random.random())for i in range(N)]\n",
        "  return numeros\n",
        "\n",
        "lista3=random_python()"
      ],
      "metadata": {
        "id": "AzCq_UUwvfap"
      },
      "execution_count": 71,
      "outputs": []
    },
    {
      "cell_type": "code",
      "source": [
        "x = lista3\n",
        "enteros = []\n",
        "for i in x:\n",
        "  if i >= 0.5:\n",
        "    enteros.append(1)\n",
        "  elif i < 0.5:\n",
        "    enteros.append(0)\n",
        "print(\"Tabla: \" , enteros)\n",
        "print(len(enteros))\n",
        "\n",
        "aux = []\n",
        "co = 0\n",
        "contador = 0\n",
        "iteracion = 0\n",
        "\n",
        "for j in enteros:\n",
        "  if aux != j:\n",
        "    co += 1\n",
        "    aux=j\n",
        "  \n",
        "print(\"co : \" , co)\n",
        "\n",
        "n0 = 0\n",
        "for j in enteros:\n",
        "  if j == 0:\n",
        "    n0 = n0+1\n",
        "print(\"no : \" , n0)\n",
        "\n",
        "n1 = 0\n",
        "for j in enteros:\n",
        "  if j == 1:\n",
        "    n1 = n1+1\n",
        "\n",
        "print(\"n1 : \" , n1)\n",
        "\n",
        "n = n0 + n1\n",
        "print(\"n : \" , n)"
      ],
      "metadata": {
        "colab": {
          "base_uri": "https://localhost:8080/"
        },
        "id": "v3ZTWAQk0SM6",
        "outputId": "7219333e-7a57-4f27-aedf-e24e0acb1f78"
      },
      "execution_count": 72,
      "outputs": [
        {
          "output_type": "stream",
          "name": "stdout",
          "text": [
            "Tabla:  [1, 1, 0, 0, 0, 0, 0, 0, 0, 0, 1, 0, 0, 0, 0, 0, 1, 0, 1, 1, 0, 0, 1, 1, 1, 0, 0, 1, 1, 1, 0, 0, 1, 0, 0, 0, 0, 0, 1, 1, 1, 0, 1, 1, 0, 1, 1, 1, 0, 0, 0, 1, 0, 1, 1, 1, 0, 1, 1, 0, 0, 0, 1, 0, 0, 1, 1, 1, 0, 1, 0, 0, 1, 1, 0, 0, 0, 0, 1, 0, 0, 0, 1, 0, 0, 0, 0, 1, 0, 1, 1, 0, 0, 1, 0, 0, 1, 1, 1, 0]\n",
            "100\n",
            "co :  46\n",
            "no :  57\n",
            "n1 :  43\n",
            "n :  100\n"
          ]
        }
      ]
    },
    {
      "cell_type": "code",
      "source": [
        "#Tauswoth q=15, r=7, l=7\n",
        "import pandas as pd\n",
        "valoresRamdom4 = []\n",
        "q=15\n",
        "h=7\n",
        "l=7\n",
        "nBits=700\n",
        "\n",
        "generador=[]\n",
        "conversion=[]\n",
        "conversion2=[]\n",
        "result=0\n",
        "\n",
        "vector_l=list(range(l))\n",
        "vector_l.reverse()\n",
        "\n",
        "for i in range(1,len(list(range(1,nBits+1)))+1):\n",
        "    if i<=q:\n",
        "        generador.append(1)\n",
        "    else:\n",
        "        aux1=i-(h+1)\n",
        "        aux2=i-(q+1)\n",
        "        generador.append((generador[aux1]+generador[aux2])%2)\n",
        "\n",
        "for i in range(l,len(generador)+1,l):\n",
        "    fragmento=generador[i-l:i]\n",
        "    for j in range(len(fragmento)):\n",
        "        result+=fragmento[j]*2**vector_l[j]\n",
        "    conversion.append(result)\n",
        "    conversion2.append(result/(2**l))\n",
        "    result=0\n",
        "\n",
        "df = pd.DataFrame(generador,index=list(range(1,nBits+1)))\n",
        "\n",
        "\n",
        "valoresRamdom4 = conversion2\n",
        "\n",
        "print(\"Valores Generados : \",  valoresRamdom4)\n",
        "print(len(valoresRamdom4))"
      ],
      "metadata": {
        "colab": {
          "base_uri": "https://localhost:8080/"
        },
        "id": "2TdNSRw5CjNR",
        "outputId": "71d9cbc6-1523-4c08-eaf4-c6651f67a20a"
      },
      "execution_count": 82,
      "outputs": [
        {
          "output_type": "stream",
          "name": "stdout",
          "text": [
            "Valores Generados :  [0.9921875, 0.9921875, 0.5, 0.4921875, 0.7421875, 0.5, 0.3671875, 0.6171875, 0.6875, 0.4921875, 0.6484375, 0.59375, 0.2890625, 0.5234375, 0.6328125, 0.375, 0.6875, 0.0, 0.34375, 0.34375, 0.453125, 0.34375, 0.3828125, 0.3046875, 0.4921875, 0.84375, 0.3984375, 0.5390625, 0.71875, 0.484375, 0.625, 0.6171875, 0.8046875, 0.5, 0.3984375, 0.6484375, 0.578125, 0.2734375, 0.546875, 0.6796875, 0.40625, 0.2421875, 0.5390625, 0.578125, 0.3125, 0.6015625, 0.6953125, 0.9921875, 0.1484375, 0.84375, 0.2890625, 0.6484375, 0.5078125, 0.3125, 0.5625, 0.21875, 0.4375, 0.421875, 0.328125, 0.3828125, 0.28125, 0.46875, 0.859375, 0.875, 0.5546875, 0.9921875, 0.71875, 0.2734375, 0.6015625, 0.71875, 0.453125, 0.65625, 0.5703125, 0.7734375, 0.5546875, 0.421875, 0.6640625, 0.109375, 0.28125, 0.7734375, 0.8828125, 0.5, 0.4375, 0.6875, 0.53125, 0.8125, 0.578125, 0.984375, 0.7109375, 0.78125, 0.5703125, 0.4609375, 0.2421875, 0.515625, 0.1015625, 0.84375, 0.828125, 0.21875, 0.3203125, 0.3046875]\n",
            "100\n"
          ]
        }
      ]
    },
    {
      "cell_type": "code",
      "source": [
        "x = valoresRamdom4\n",
        "enteros = []\n",
        "for i in x:\n",
        "  if i >= 0.5:\n",
        "    enteros.append(1)\n",
        "  elif i < 0.5:\n",
        "    enteros.append(0)\n",
        "print(\"Valores enteros 1 y 0 : \" , enteros)\n",
        "print(len(enteros))\n",
        "\n",
        "aux = []\n",
        "co = 0\n",
        "contador = 0\n",
        "iteracion = 0\n",
        "\n",
        "for j in enteros:\n",
        "  if aux != j:\n",
        "    co += 1\n",
        "    aux=j\n",
        "  \n",
        "print(\"co : \" , co)\n",
        "\n",
        "n0 = 0\n",
        "for j in enteros:\n",
        "  if j == 0:\n",
        "    n0 = n0+1\n",
        "print(\"no : \" , n0)\n",
        "\n",
        "n1 = 0\n",
        "for j in enteros:\n",
        "  if j == 1:\n",
        "    n1 = n1+1\n",
        "\n",
        "print(\"n1 : \" , n1)\n",
        "\n",
        "n = n0 + n1\n",
        "print(\"n : \" , n)"
      ],
      "metadata": {
        "colab": {
          "base_uri": "https://localhost:8080/"
        },
        "id": "77NLEnppDvjF",
        "outputId": "cc40bf5d-b2e5-44d8-beba-a7f1aac98358"
      },
      "execution_count": 83,
      "outputs": [
        {
          "output_type": "stream",
          "name": "stdout",
          "text": [
            "Valores enteros 1 y 0 :  [1, 1, 1, 0, 1, 1, 0, 1, 1, 0, 1, 1, 0, 1, 1, 0, 1, 0, 0, 0, 0, 0, 0, 0, 0, 1, 0, 1, 1, 0, 1, 1, 1, 1, 0, 1, 1, 0, 1, 1, 0, 0, 1, 1, 0, 1, 1, 1, 0, 1, 0, 1, 1, 0, 1, 0, 0, 0, 0, 0, 0, 0, 1, 1, 1, 1, 1, 0, 1, 1, 0, 1, 1, 1, 1, 0, 1, 0, 0, 1, 1, 1, 0, 1, 1, 1, 1, 1, 1, 1, 1, 0, 0, 1, 0, 1, 1, 0, 0, 0]\n",
            "100\n",
            "co :  48\n",
            "no :  42\n",
            "n1 :  58\n",
            "n :  100\n"
          ]
        }
      ]
    },
    {
      "cell_type": "code",
      "source": [
        ""
      ],
      "metadata": {
        "id": "WEkMpQNYEjdp"
      },
      "execution_count": null,
      "outputs": []
    }
  ]
}