{
  "nbformat": 4,
  "nbformat_minor": 0,
  "metadata": {
    "colab": {
      "name": "PruebaSimpy_TixiDiana.ipynb",
      "provenance": [],
      "authorship_tag": "ABX9TyPOV88bQqogzUNOP6UiQX0u",
      "include_colab_link": true
    },
    "kernelspec": {
      "name": "python3",
      "display_name": "Python 3"
    },
    "language_info": {
      "name": "python"
    }
  },
  "cells": [
    {
      "cell_type": "markdown",
      "metadata": {
        "id": "view-in-github",
        "colab_type": "text"
      },
      "source": [
        "<a href=\"https://colab.research.google.com/github/DianaTixi/SimulacionP60/blob/main/PruebaSimpy_TixiDiana.ipynb\" target=\"_parent\"><img src=\"https://colab.research.google.com/assets/colab-badge.svg\" alt=\"Open In Colab\"/></a>"
      ]
    },
    {
      "cell_type": "code",
      "execution_count": 1,
      "metadata": {
        "colab": {
          "base_uri": "https://localhost:8080/"
        },
        "id": "bl10IQDCtqc9",
        "outputId": "947e451c-16db-4cf3-a8a9-0be738faa526"
      },
      "outputs": [
        {
          "output_type": "stream",
          "name": "stdout",
          "text": [
            "Looking in indexes: https://pypi.org/simple, https://us-python.pkg.dev/colab-wheels/public/simple/\n",
            "Collecting simpy\n",
            "  Downloading simpy-4.0.1-py2.py3-none-any.whl (29 kB)\n",
            "Installing collected packages: simpy\n",
            "Successfully installed simpy-4.0.1\n"
          ]
        }
      ],
      "source": [
        "pip install simpy"
      ]
    },
    {
      "cell_type": "markdown",
      "source": [
        ""
      ],
      "metadata": {
        "id": "MOzTDP1lvUKO"
      }
    },
    {
      "cell_type": "code",
      "source": [
        "import simpy\n",
        "import random\n",
        "from scipy.stats import uniform\n",
        "from random import expovariate\n",
        "from scipy import stats\n",
        "MAX_CLIENTES = 100\n",
        "NUM_CARRILES = 3\n",
        "# Creamos una clase que permita modelar mi escenario\n",
        "class REVISION_VEHICULAR(object):\n",
        "\n",
        "\n",
        "  def _init_(self, environment, num_carriles):\n",
        "    # Guardamos como variable el entorno de ejecucion\n",
        "    self.env=environment\n",
        "    # Creamos el recurso que representa los cajeros\n",
        "    self.clientes = simpy.Resource(environment, num_carriles)\n",
        "\n",
        "\n",
        "  def parquear(self, cliente):\n",
        "    print(f'El cliente {cliente} comienza a parquearse a las {env.now}')\n",
        "    yield self.env.timeout(random.expovariate(5))\n",
        "    print(f'El cliente {cliente} termina de parquearse a las {env.now}')\n",
        "\n",
        "  def sacar_turno(self, cliente):\n",
        "    print(f'El cliente {cliente} comienza a sacar turno a las {env.now}')\n",
        "    yield self.env.timeout(random.expovariate(3))\n",
        "    print(f'El cliente {cliente} termina de sacar turno a las {env.now}')\n",
        "  \n",
        "  def paga_matricula(self, cliente):\n",
        "    print(f'El cliente {cliente} comienza a pagar la matricula a las {env.now}')\n",
        "    yield self.env.timeout(random.expovariate(10))\n",
        "    print(f'El cliente {cliente} termina de pagar la matricula a las {env.now}')\n",
        "\n",
        "  def pegar_sello(self, cliente):\n",
        "    print(f'El cliente {cliente} comienza a pegar el sello a las {env.now}')\n",
        "    yield self.env.timeout(random.expovariate(3))\n",
        "    print(f'El cliente {cliente} termina de pegar el sello a las {env.now}')\n",
        "\n",
        "  def salir(self, cliente):\n",
        "    print(f'El cliente {cliente} comienza a salir a las {env.now}')\n",
        "    yield self.env.timeout(random.expovariate(10))\n",
        "    print(f'El cliente {cliente} termina de salir a las {env.now}')\n",
        "\n",
        "  def revision(self, cliente):\n",
        "    print(f'El cliente {cliente} comienza a ser revisado a las {env.now}')\n",
        "    yield self.env.timeout(random.expovariate(20))\n",
        "    print(f'El cliente {cliente} termina de ser revisado a las {env.now}')\n",
        "\n",
        "\n",
        "def llegada_cliente(env, nombre, revision_vehi):\n",
        "  print(f'El cliente {nombre} llega a las {env.now}')\n",
        "  # Que va a hacer el cliente en la simu\n",
        "  with revision_vehi.clientes.request() as cliente:\n",
        "    # Se parquea primero\n",
        "    yield cliente\n",
        "    yield env.process(revision_vehi.parquear(nombre))\n",
        "    # Saca turno\n",
        "    yield cliente\n",
        "    yield env.process(revision_vehi.sacar_turno(nombre))\n",
        "    # Paga Matricula\n",
        "    yield cliente\n",
        "    yield env.process(revision_vehi.paga_matricula(nombre))\n",
        "    # Paga Matricula\n",
        "    yield cliente\n",
        "    yield env.process(revision_vehi.paga_matricula(nombre))\n",
        "\n",
        "\n",
        "def ejecutar_simulacion(env, NUM_CARRILES):\n",
        "  revision_vehi=REVISION_VEHICULAR(env, NUM_CARRILES)\n",
        "  # Creamos 3 llegadas de clientes iniciales\n",
        "  for i in range(NUM_CARRILES):\n",
        "    env.process(llegada_cliente(env, 'Cliente-%d'%(i+1),revision_vehi))\n",
        "  # Ejecutamos la simulacion\n",
        "  while True:\n",
        "    # Generamos un procesos de llegada uniforme\n",
        "    yield env.timeout(uniform.rvs(1,3,size=1)[0])\n",
        "    i+=1\n",
        "    # Atiendo a los clientes\n",
        "    env.process(llegada_cliente(env,'Cliente-%d'%(i+1),revision_vehi))\n",
        "     # Terminamos despues de 1000 clientes\n",
        "    if i == 50:\n",
        "      break\n",
        "\n",
        "print('Cajeros automaticos')\n",
        "# Inicializamos la semilla aleatoria\n",
        "random.seed(77)\n",
        "# Creamos el entorno de simulacion\n",
        "env=simpy.Environment()\n",
        "env.process(ejecutar_simulacion(env, NUM_CARRILES))\n",
        "# Ejecutamos el proceso\n",
        "env.run()"
      ],
      "metadata": {
        "colab": {
          "base_uri": "https://localhost:8080/",
          "height": 467
        },
        "id": "TpnWy4hj079c",
        "outputId": "c65b7428-5cfc-4bf9-a97b-67f2b9a0ac05"
      },
      "execution_count": 9,
      "outputs": [
        {
          "output_type": "stream",
          "name": "stdout",
          "text": [
            "Cajeros automaticos\n"
          ]
        },
        {
          "output_type": "error",
          "ename": "TypeError",
          "evalue": "ignored",
          "traceback": [
            "\u001b[0;31m---------------------------------------------------------------------------\u001b[0m",
            "\u001b[0;31mTypeError\u001b[0m                                 Traceback (most recent call last)",
            "\u001b[0;32m<ipython-input-9-30204aa05151>\u001b[0m in \u001b[0;36mejecutar_simulacion\u001b[0;34m(env, NUM_CARRILES)\u001b[0m\n\u001b[1;32m     68\u001b[0m \u001b[0;32mdef\u001b[0m \u001b[0mejecutar_simulacion\u001b[0m\u001b[0;34m(\u001b[0m\u001b[0menv\u001b[0m\u001b[0;34m,\u001b[0m \u001b[0mNUM_CARRILES\u001b[0m\u001b[0;34m)\u001b[0m\u001b[0;34m:\u001b[0m\u001b[0;34m\u001b[0m\u001b[0;34m\u001b[0m\u001b[0m\n\u001b[0;32m---> 69\u001b[0;31m   \u001b[0mrevision_vehi\u001b[0m\u001b[0;34m=\u001b[0m\u001b[0mREVISION_VEHICULAR\u001b[0m\u001b[0;34m(\u001b[0m\u001b[0menv\u001b[0m\u001b[0;34m,\u001b[0m \u001b[0mNUM_CARRILES\u001b[0m\u001b[0;34m)\u001b[0m\u001b[0;34m\u001b[0m\u001b[0;34m\u001b[0m\u001b[0m\n\u001b[0m\u001b[1;32m     70\u001b[0m   \u001b[0;31m# Creamos 3 llegadas de clientes iniciales\u001b[0m\u001b[0;34m\u001b[0m\u001b[0;34m\u001b[0m\u001b[0;34m\u001b[0m\u001b[0m\n",
            "\u001b[0;31mTypeError\u001b[0m: REVISION_VEHICULAR() takes no arguments",
            "\nThe above exception was the direct cause of the following exception:\n",
            "\u001b[0;31mTypeError\u001b[0m                                 Traceback (most recent call last)",
            "\u001b[0;32m<ipython-input-9-30204aa05151>\u001b[0m in \u001b[0;36m<module>\u001b[0;34m()\u001b[0m\n\u001b[1;32m     90\u001b[0m \u001b[0menv\u001b[0m\u001b[0;34m.\u001b[0m\u001b[0mprocess\u001b[0m\u001b[0;34m(\u001b[0m\u001b[0mejecutar_simulacion\u001b[0m\u001b[0;34m(\u001b[0m\u001b[0menv\u001b[0m\u001b[0;34m,\u001b[0m \u001b[0mNUM_CARRILES\u001b[0m\u001b[0;34m)\u001b[0m\u001b[0;34m)\u001b[0m\u001b[0;34m\u001b[0m\u001b[0;34m\u001b[0m\u001b[0m\n\u001b[1;32m     91\u001b[0m \u001b[0;31m# Ejecutamos el proceso\u001b[0m\u001b[0;34m\u001b[0m\u001b[0;34m\u001b[0m\u001b[0;34m\u001b[0m\u001b[0m\n\u001b[0;32m---> 92\u001b[0;31m \u001b[0menv\u001b[0m\u001b[0;34m.\u001b[0m\u001b[0mrun\u001b[0m\u001b[0;34m(\u001b[0m\u001b[0;34m)\u001b[0m\u001b[0;34m\u001b[0m\u001b[0;34m\u001b[0m\u001b[0m\n\u001b[0m",
            "\u001b[0;32m/usr/local/lib/python3.7/dist-packages/simpy/core.py\u001b[0m in \u001b[0;36mrun\u001b[0;34m(self, until)\u001b[0m\n\u001b[1;32m    252\u001b[0m         \u001b[0;32mtry\u001b[0m\u001b[0;34m:\u001b[0m\u001b[0;34m\u001b[0m\u001b[0;34m\u001b[0m\u001b[0m\n\u001b[1;32m    253\u001b[0m             \u001b[0;32mwhile\u001b[0m \u001b[0;32mTrue\u001b[0m\u001b[0;34m:\u001b[0m\u001b[0;34m\u001b[0m\u001b[0;34m\u001b[0m\u001b[0m\n\u001b[0;32m--> 254\u001b[0;31m                 \u001b[0mself\u001b[0m\u001b[0;34m.\u001b[0m\u001b[0mstep\u001b[0m\u001b[0;34m(\u001b[0m\u001b[0;34m)\u001b[0m\u001b[0;34m\u001b[0m\u001b[0;34m\u001b[0m\u001b[0m\n\u001b[0m\u001b[1;32m    255\u001b[0m         \u001b[0;32mexcept\u001b[0m \u001b[0mStopSimulation\u001b[0m \u001b[0;32mas\u001b[0m \u001b[0mexc\u001b[0m\u001b[0;34m:\u001b[0m\u001b[0;34m\u001b[0m\u001b[0;34m\u001b[0m\u001b[0m\n\u001b[1;32m    256\u001b[0m             \u001b[0;32mreturn\u001b[0m \u001b[0mexc\u001b[0m\u001b[0;34m.\u001b[0m\u001b[0margs\u001b[0m\u001b[0;34m[\u001b[0m\u001b[0;36m0\u001b[0m\u001b[0;34m]\u001b[0m  \u001b[0;31m# == until.value\u001b[0m\u001b[0;34m\u001b[0m\u001b[0;34m\u001b[0m\u001b[0m\n",
            "\u001b[0;32m/usr/local/lib/python3.7/dist-packages/simpy/core.py\u001b[0m in \u001b[0;36mstep\u001b[0;34m(self)\u001b[0m\n\u001b[1;32m    204\u001b[0m             \u001b[0mexc\u001b[0m \u001b[0;34m=\u001b[0m \u001b[0mtype\u001b[0m\u001b[0;34m(\u001b[0m\u001b[0mevent\u001b[0m\u001b[0;34m.\u001b[0m\u001b[0m_value\u001b[0m\u001b[0;34m)\u001b[0m\u001b[0;34m(\u001b[0m\u001b[0;34m*\u001b[0m\u001b[0mevent\u001b[0m\u001b[0;34m.\u001b[0m\u001b[0m_value\u001b[0m\u001b[0;34m.\u001b[0m\u001b[0margs\u001b[0m\u001b[0;34m)\u001b[0m\u001b[0;34m\u001b[0m\u001b[0;34m\u001b[0m\u001b[0m\n\u001b[1;32m    205\u001b[0m             \u001b[0mexc\u001b[0m\u001b[0;34m.\u001b[0m\u001b[0m__cause__\u001b[0m \u001b[0;34m=\u001b[0m \u001b[0mevent\u001b[0m\u001b[0;34m.\u001b[0m\u001b[0m_value\u001b[0m\u001b[0;34m\u001b[0m\u001b[0;34m\u001b[0m\u001b[0m\n\u001b[0;32m--> 206\u001b[0;31m             \u001b[0;32mraise\u001b[0m \u001b[0mexc\u001b[0m\u001b[0;34m\u001b[0m\u001b[0;34m\u001b[0m\u001b[0m\n\u001b[0m\u001b[1;32m    207\u001b[0m \u001b[0;34m\u001b[0m\u001b[0m\n\u001b[1;32m    208\u001b[0m     def run(\n",
            "\u001b[0;31mTypeError\u001b[0m: REVISION_VEHICULAR() takes no arguments"
          ]
        }
      ]
    }
  ]
}