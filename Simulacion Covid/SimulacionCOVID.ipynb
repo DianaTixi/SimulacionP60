{
  "nbformat": 4,
  "nbformat_minor": 0,
  "metadata": {
    "colab": {
      "name": "SimulacionCOVID.ipynb",
      "provenance": []
    },
    "kernelspec": {
      "name": "python3",
      "display_name": "Python 3"
    },
    "language_info": {
      "name": "python"
    }
  },
  "cells": [
    {
      "cell_type": "markdown",
      "source": [
        "# Simulacion Covid \n",
        "\n",
        "##### Nombre: Diana Fernanda Tixi Uyaguari\n",
        "\n",
        "##### Fecha: 01/08/2022\n"
      ],
      "metadata": {
        "id": "RLfvFU73muBK"
      }
    },
    {
      "cell_type": "markdown",
      "source": [
        "Realizar la planificación y modelado de una simulacion basado en eventos discretos para identificar los contagios dentro de un establecimiento de estudiantes post COVID-19 para el reingreso de clases. Los pasos para el regreso progresivo a clases se describe a continuación:\n",
        "\n",
        "* Calcular e Identificar el aforo máximo permitido en la institución educativa.\n",
        "\n",
        "* Identificar el número de estudiantes y el porcentaje de contagio dentro del contexto poblacional el mismo que se aplicara dentro de la simulación por el contagio.\n",
        "\n",
        "* Generar la simulación desde la puerta de ingreso y la salida del plantel por día.\n",
        "\n",
        "* Los estudiantes hacen fila para ingresar al establecimiento y no pueden superar el aforo permitido.\n",
        "\n",
        "* Realizar con un tiempo de un 1 mes."
      ],
      "metadata": {
        "id": "EWr_lk_6mtpf"
      }
    },
    {
      "cell_type": "code",
      "execution_count": 1,
      "metadata": {
        "colab": {
          "base_uri": "https://localhost:8080/"
        },
        "id": "oP32omU1mpjW",
        "outputId": "5c582f03-37f1-4f90-d075-cffa7a498152"
      },
      "outputs": [
        {
          "output_type": "stream",
          "name": "stdout",
          "text": [
            "Looking in indexes: https://pypi.org/simple, https://us-python.pkg.dev/colab-wheels/public/simple/\n",
            "Collecting simpy\n",
            "  Downloading simpy-4.0.1-py2.py3-none-any.whl (29 kB)\n",
            "Installing collected packages: simpy\n",
            "Successfully installed simpy-4.0.1\n"
          ]
        }
      ],
      "source": [
        "#LIBRERIAS\n",
        "!pip install simpy\n",
        "import simpy\n",
        "import random\n",
        "import matplotlib.pyplot as plt\n",
        "from scipy import stats \n",
        "import numpy as np"
      ]
    },
    {
      "cell_type": "code",
      "source": [
        "#Probabilidad de contagio \n",
        "PROBABILIDAD_CONTAGIO=0.05\n",
        "#Numero de personas\n",
        "AFORO=300\n",
        "#Tiempo de simulacion \n",
        "TIEMPO_SIMULACION = 3000\n",
        "\n",
        "contador=0\n",
        "contagios=[]\n",
        "lasHoras={}\n",
        "\n",
        "class Universidad(object):\n",
        "    \n",
        "    def __init__(self, environment, PROBABILIDAD_CONTAGIO, AFORO, TIEMPO_SIMULACION):\n",
        "        self.env=environment\n",
        "        self.aforo = simpy.Resource(environment, AFORO)\n",
        "        self.probabilidadContagio = PROBABILIDAD_CONTAGIO \n",
        "        \n",
        "    def estanciaEnUniversidad(self, vehiculo):\n",
        "        tiempo=random.randint(60,360)\n",
        "        yield self.env.timeout(tiempo)\n",
        "        return tiempo\n",
        "\n",
        "def llegada_estudiantes(env, nombre, universidad):\n",
        "    global contador\n",
        "    # print('Llega %s: a la hora %.2f.' % (nombre, env.now))\n",
        "\n",
        "    with universidad.aforo.request() as aforo:\n",
        "\n",
        "        yield aforo\n",
        "\n",
        "        # print('Entra %s a la hora %.2f.' % (nombre, env.now))\n",
        "        tEst=yield env.process(universidad.estanciaEnUniversidad(nombre))\n",
        "        # print(tEst)\n",
        "        if tEst in lasHoras.keys():\n",
        "            lasHoras[tEst]+=1\n",
        "        else:\n",
        "            lasHoras[tEst]=1\n",
        "\n",
        "        # print('El %s salio a las %.2f.' % (nombre, env.now))\n",
        "        # print(lasHoras)\n",
        "\n",
        "def poner_contagios_porDia(lasHoras, PROBABILIDAD_CONTAGIO):\n",
        "    contadorContagios=0\n",
        "    for k in list(lasHoras.keys()):\n",
        "        bernoulli = stats.bernoulli(PROBABILIDAD_CONTAGIO)\n",
        "        contagios=bernoulli.rvs(lasHoras[k])\n",
        "        # print(k)\n",
        "        if k>=60 and k<120:\n",
        "            bernoulli = stats.bernoulli(PROBABILIDAD_CONTAGIO)\n",
        "            contagios=bernoulli.rvs(lasHoras[k])\n",
        "        elif k>=120 and k<180:\n",
        "            a=PROBABILIDAD_CONTAGIO+0.1\n",
        "            bernoulli = stats.bernoulli(a)\n",
        "            contagios=bernoulli.rvs(lasHoras[k])\n",
        "        elif k>=180 and k<240:\n",
        "            a=PROBABILIDAD_CONTAGIO+0.2\n",
        "            bernoulli = stats.bernoulli(a)\n",
        "            contagios=bernoulli.rvs(lasHoras[k])\n",
        "        elif k>=240 and k<300:\n",
        "            a=PROBABILIDAD_CONTAGIO+0.3\n",
        "            bernoulli = stats.bernoulli(a)\n",
        "            contagios=bernoulli.rvs(lasHoras[k])\n",
        "        elif k>=300 and k<360:\n",
        "            a=PROBABILIDAD_CONTAGIO+0.4\n",
        "            bernoulli = stats.bernoulli(a)\n",
        "            contagios=bernoulli.rvs(lasHoras[k])\n",
        "        elif k>=360 and k<420:\n",
        "            # print('hola')\n",
        "            a=PROBABILIDAD_CONTAGIO+0.5\n",
        "            bernoulli = stats.bernoulli(a)\n",
        "            contagios=bernoulli.rvs(lasHoras[k])\n",
        "        for c in contagios:\n",
        "            if c == 1:\n",
        "                contadorContagios+=1\n",
        "    return contadorContagios\n",
        "\n",
        "def ejecutar_simulacion(env,PROBABILIDAD_CONTAGIO, AFORO, TIEMPO_SIMULACION):\n",
        "    universidad=Universidad(env,PROBABILIDAD_CONTAGIO, AFORO, TIEMPO_SIMULACION)\n",
        "    global contador\n",
        "    global lasHoras\n",
        "    \n",
        "    i=0\n",
        "    while True:\n",
        "        i+=1\n",
        "        yield env.timeout(1)\n",
        "        env.process(llegada_estudiantes(env, 'estudiante '+str(i), universidad))\n",
        "        contagiosDia=poner_contagios_porDia(lasHoras, PROBABILIDAD_CONTAGIO)\n",
        "        if i==360:\n",
        "            contagios.append(contagiosDia)\n",
        "            lasHoras={}\n",
        "            i=0\n",
        "        # contagios.append(contador)\n",
        "        \n",
        "\n",
        "print('Ingreso a clases UPS')\n",
        "# Inicializamos la semilla aleatoria\n",
        "random.seed(77)\n",
        "\n",
        "# Creamos el entorno de simulacion\n",
        "env=simpy.Environment()\n",
        "env.process(ejecutar_simulacion(env, PROBABILIDAD_CONTAGIO, AFORO, TIEMPO_SIMULACION))\n",
        "\n",
        "# Ejecutamos el proceso durante el tiempo de simulacion\n",
        "env.run(until = TIEMPO_SIMULACION)\n",
        "\n",
        "print(contagios)\n",
        "print(len(contagios))\n",
        "print(lasHoras)\n",
        "# Generamos una grafica en base al diccionario del tiempo\n",
        "etiqueta = list(list(range(len(contagios))))\n",
        "valores = list(contagios)\n",
        "plt.bar(etiqueta, valores, align=\"center\")\n",
        "plt.title(\"Numero de ontagios por dia\")\n",
        "plt.xlabel(\"Dia\")\n",
        "plt.ylabel(\"Nro. Contagios\")\n",
        "plt.show()"
      ],
      "metadata": {
        "colab": {
          "base_uri": "https://localhost:8080/",
          "height": 388
        },
        "id": "s13OZAksnEcu",
        "outputId": "94fda42a-ed65-49d9-983b-b05f14e42438"
      },
      "execution_count": 4,
      "outputs": [
        {
          "output_type": "stream",
          "name": "stdout",
          "text": [
            "Ingreso a clases UPS\n",
            "[17, 99, 68, 88, 77, 91, 94, 85]\n",
            "8\n",
            "{180: 2, 214: 1, 243: 1, 130: 2, 186: 1, 346: 2, 199: 1, 148: 2, 240: 1, 142: 1, 246: 2, 262: 1, 275: 2, 271: 1, 234: 2, 229: 1, 81: 1, 241: 2, 236: 2, 97: 1, 349: 1, 173: 2, 319: 1, 67: 1, 283: 1, 260: 1, 216: 1, 136: 1, 192: 1, 345: 1, 268: 1, 197: 1, 92: 1, 215: 1, 250: 1, 198: 1, 137: 1, 127: 1, 357: 1, 302: 2, 60: 2, 295: 1, 351: 1, 313: 1, 297: 1, 320: 1, 314: 1, 116: 1, 158: 1, 227: 1, 64: 1, 75: 2, 63: 2, 113: 2, 98: 1, 356: 2, 135: 1, 122: 1, 69: 1, 279: 2, 83: 1, 298: 1, 202: 1, 183: 1, 219: 1, 189: 1, 178: 1, 322: 1, 167: 1, 244: 1, 164: 1, 100: 1, 166: 1, 254: 1, 102: 1, 223: 1, 265: 1, 220: 1, 336: 1, 210: 2, 89: 1, 224: 1, 144: 1, 91: 1, 292: 1, 212: 1, 272: 1, 226: 1, 76: 1, 360: 1, 354: 1, 205: 1, 90: 1, 343: 1, 348: 1, 335: 1, 274: 1, 80: 1, 353: 1, 285: 1, 317: 1, 300: 1, 157: 1, 96: 1, 280: 1, 104: 1, 194: 1, 339: 1, 318: 1}\n"
          ]
        },
        {
          "output_type": "display_data",
          "data": {
            "text/plain": [
              "<Figure size 432x288 with 1 Axes>"
            ],
            "image/png": "[encoded data removed]"
          },
          "metadata": {
            "needs_background": "light"
          }
        }
      ]
    }
  ]
}